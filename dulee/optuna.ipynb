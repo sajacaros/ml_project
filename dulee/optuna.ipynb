{
 "cells": [
  {
   "cell_type": "code",
   "execution_count": 1,
   "id": "a050b283",
   "metadata": {},
   "outputs": [],
   "source": [
    "# !pip install lightgbm optuna"
   ]
  },
  {
   "cell_type": "code",
   "execution_count": 2,
   "id": "aaa64b31",
   "metadata": {},
   "outputs": [],
   "source": [
    "import numpy as np\n",
    "import pandas as pd\n",
    "import matplotlib.pyplot as plt\n",
    "import seaborn as sns"
   ]
  },
  {
   "cell_type": "markdown",
   "id": "6064234d",
   "metadata": {},
   "source": [
    "# 데이터 로드"
   ]
  },
  {
   "cell_type": "code",
   "execution_count": 3,
   "id": "f557be62",
   "metadata": {},
   "outputs": [],
   "source": [
    "data_path = '../data/'\n",
    "train_df = pd.read_csv(data_path+'train.csv', index_col='id')\n",
    "test_df = pd.read_csv(data_path+'test.csv', index_col='id')"
   ]
  },
  {
   "cell_type": "markdown",
   "id": "4fdaab63",
   "metadata": {},
   "source": [
    "# 전처리"
   ]
  },
  {
   "cell_type": "code",
   "execution_count": 4,
   "id": "17112fc7",
   "metadata": {},
   "outputs": [],
   "source": [
    "X = train_df.drop(columns=['defects'])\n",
    "y = train_df['defects']"
   ]
  },
  {
   "cell_type": "markdown",
   "id": "fb262d44",
   "metadata": {},
   "source": [
    "# 학습"
   ]
  },
  {
   "cell_type": "markdown",
   "id": "edede2c4",
   "metadata": {},
   "source": [
    "### 1. Light GBM"
   ]
  },
  {
   "cell_type": "code",
   "execution_count": 5,
   "id": "d0584221",
   "metadata": {},
   "outputs": [
    {
     "name": "stdout",
     "output_type": "stream",
     "text": [
      "[LightGBM] [Info] Number of positive: 18397, number of negative: 63013\n",
      "[LightGBM] [Info] Auto-choosing col-wise multi-threading, the overhead of testing was 0.007789 seconds.\n",
      "You can set `force_col_wise=true` to remove the overhead.\n",
      "[LightGBM] [Info] Total Bins 3544\n",
      "[LightGBM] [Info] Number of data points in the train set: 81410, number of used features: 21\n",
      "[LightGBM] [Info] [binary:BoostFromScore]: pavg=0.225980 -> initscore=-1.231153\n",
      "[LightGBM] [Info] Start training from score -1.231153\n"
     ]
    },
    {
     "data": {
      "text/plain": [
       "(0.8244687384842156, 0.8122635483712475)"
      ]
     },
     "execution_count": 5,
     "metadata": {},
     "output_type": "execute_result"
    }
   ],
   "source": [
    "from sklearn.model_selection import train_test_split\n",
    "X_train, X_val, y_train, y_val = train_test_split(X, y, random_state=61, train_size=0.8)\n",
    "\n",
    "from lightgbm.sklearn import LGBMClassifier\n",
    "lgbm = LGBMClassifier()\n",
    "lgbm.fit(X_train, y_train)\n",
    "lgbm.score(X_train, y_train), lgbm.score(X_val, y_val) # accuracy"
   ]
  },
  {
   "cell_type": "markdown",
   "id": "42aa985f",
   "metadata": {},
   "source": [
    "### 2. Light GBM + optuna"
   ]
  },
  {
   "cell_type": "code",
   "execution_count": 6,
   "id": "02ba0bef",
   "metadata": {},
   "outputs": [],
   "source": [
    "from sklearn.model_selection import train_test_split\n",
    "X_train, X_val, y_train, y_val = train_test_split(X, y, random_state=61, train_size=0.8)\n",
    "\n",
    "from lightgbm.sklearn import LGBMClassifier\n",
    "def optimizer(trial):\n",
    "    # 변경할 parameter는 찾아야 함.\n",
    "    num_leaves = trial.suggest_categorical('num_leaves', [4, 8, 16, 32])\n",
    "    learning_rate = trial.suggest_float('learning_rate', 0.01, 0.3)\n",
    "    n_estimators = trial.suggest_int('n_estimators', 100, 1000)\n",
    "\n",
    "    lgbm = LGBMClassifier(num_leaves=num_leaves,\n",
    "                          learning_rate=learning_rate,\n",
    "                          n_estimators=n_estimators,\n",
    "                          random_state=61)\n",
    "    lgbm.fit(X_train, y_train)\n",
    "    return lgbm.score(X_val, y_val) # accuracy  -->  area under the ROC curve로 바꾸어야 함."
   ]
  },
  {
   "cell_type": "code",
   "execution_count": 7,
   "id": "ba2bb254",
   "metadata": {
    "scrolled": true
   },
   "outputs": [
    {
     "name": "stderr",
     "output_type": "stream",
     "text": [
      "[I 2023-10-11 02:17:34,650] A new study created in memory with name: no-name-14b47cbd-1998-48d4-9930-f253138eb068\n"
     ]
    },
    {
     "name": "stdout",
     "output_type": "stream",
     "text": [
      "[LightGBM] [Info] Number of positive: 18397, number of negative: 63013\n",
      "[LightGBM] [Info] Auto-choosing col-wise multi-threading, the overhead of testing was 0.007845 seconds.\n",
      "You can set `force_col_wise=true` to remove the overhead.\n",
      "[LightGBM] [Info] Total Bins 3544\n",
      "[LightGBM] [Info] Number of data points in the train set: 81410, number of used features: 21\n",
      "[LightGBM] [Info] [binary:BoostFromScore]: pavg=0.225980 -> initscore=-1.231153\n",
      "[LightGBM] [Info] Start training from score -1.231153\n"
     ]
    },
    {
     "name": "stderr",
     "output_type": "stream",
     "text": [
      "[I 2023-10-11 02:17:36,061] Trial 0 finished with value: 0.8088733847590036 and parameters: {'num_leaves': 32, 'learning_rate': 0.0988087181756155, 'n_estimators': 361}. Best is trial 0 with value: 0.8088733847590036.\n"
     ]
    },
    {
     "name": "stdout",
     "output_type": "stream",
     "text": [
      "[LightGBM] [Info] Number of positive: 18397, number of negative: 63013\n",
      "[LightGBM] [Info] Auto-choosing col-wise multi-threading, the overhead of testing was 0.008211 seconds.\n",
      "You can set `force_col_wise=true` to remove the overhead.\n",
      "[LightGBM] [Info] Total Bins 3544\n",
      "[LightGBM] [Info] Number of data points in the train set: 81410, number of used features: 21\n",
      "[LightGBM] [Info] [binary:BoostFromScore]: pavg=0.225980 -> initscore=-1.231153\n",
      "[LightGBM] [Info] Start training from score -1.231153\n"
     ]
    },
    {
     "name": "stderr",
     "output_type": "stream",
     "text": [
      "[I 2023-10-11 02:17:39,022] Trial 1 finished with value: 0.7945757382204097 and parameters: {'num_leaves': 32, 'learning_rate': 0.2823978704996192, 'n_estimators': 864}. Best is trial 0 with value: 0.8088733847590036.\n"
     ]
    },
    {
     "name": "stdout",
     "output_type": "stream",
     "text": [
      "[LightGBM] [Info] Number of positive: 18397, number of negative: 63013\n",
      "[LightGBM] [Info] Auto-choosing col-wise multi-threading, the overhead of testing was 0.007959 seconds.\n",
      "You can set `force_col_wise=true` to remove the overhead.\n",
      "[LightGBM] [Info] Total Bins 3544\n",
      "[LightGBM] [Info] Number of data points in the train set: 81410, number of used features: 21\n",
      "[LightGBM] [Info] [binary:BoostFromScore]: pavg=0.225980 -> initscore=-1.231153\n",
      "[LightGBM] [Info] Start training from score -1.231153\n"
     ]
    },
    {
     "name": "stderr",
     "output_type": "stream",
     "text": [
      "[I 2023-10-11 02:17:41,658] Trial 2 finished with value: 0.8116248218935783 and parameters: {'num_leaves': 8, 'learning_rate': 0.08002518216335827, 'n_estimators': 931}. Best is trial 2 with value: 0.8116248218935783.\n"
     ]
    },
    {
     "name": "stdout",
     "output_type": "stream",
     "text": [
      "[LightGBM] [Info] Number of positive: 18397, number of negative: 63013\n",
      "[LightGBM] [Info] Auto-choosing col-wise multi-threading, the overhead of testing was 0.007367 seconds.\n",
      "You can set `force_col_wise=true` to remove the overhead.\n",
      "[LightGBM] [Info] Total Bins 3544\n",
      "[LightGBM] [Info] Number of data points in the train set: 81410, number of used features: 21\n",
      "[LightGBM] [Info] [binary:BoostFromScore]: pavg=0.225980 -> initscore=-1.231153\n",
      "[LightGBM] [Info] Start training from score -1.231153\n"
     ]
    },
    {
     "name": "stderr",
     "output_type": "stream",
     "text": [
      "[I 2023-10-11 02:17:43,718] Trial 3 finished with value: 0.805778017982607 and parameters: {'num_leaves': 16, 'learning_rate': 0.20086700642086644, 'n_estimators': 696}. Best is trial 2 with value: 0.8116248218935783.\n"
     ]
    },
    {
     "name": "stdout",
     "output_type": "stream",
     "text": [
      "[LightGBM] [Info] Number of positive: 18397, number of negative: 63013\n",
      "[LightGBM] [Info] Auto-choosing col-wise multi-threading, the overhead of testing was 0.007686 seconds.\n",
      "You can set `force_col_wise=true` to remove the overhead.\n",
      "[LightGBM] [Info] Total Bins 3544\n",
      "[LightGBM] [Info] Number of data points in the train set: 81410, number of used features: 21\n",
      "[LightGBM] [Info] [binary:BoostFromScore]: pavg=0.225980 -> initscore=-1.231153\n",
      "[LightGBM] [Info] Start training from score -1.231153\n"
     ]
    },
    {
     "name": "stderr",
     "output_type": "stream",
     "text": [
      "[I 2023-10-11 02:17:44,305] Trial 4 finished with value: 0.811673954699553 and parameters: {'num_leaves': 4, 'learning_rate': 0.2163743641976117, 'n_estimators': 188}. Best is trial 4 with value: 0.811673954699553.\n"
     ]
    },
    {
     "name": "stdout",
     "output_type": "stream",
     "text": [
      "[LightGBM] [Info] Number of positive: 18397, number of negative: 63013\n",
      "[LightGBM] [Info] Auto-choosing col-wise multi-threading, the overhead of testing was 0.008082 seconds.\n",
      "You can set `force_col_wise=true` to remove the overhead.\n",
      "[LightGBM] [Info] Total Bins 3544\n",
      "[LightGBM] [Info] Number of data points in the train set: 81410, number of used features: 21\n",
      "[LightGBM] [Info] [binary:BoostFromScore]: pavg=0.225980 -> initscore=-1.231153\n",
      "[LightGBM] [Info] Start training from score -1.231153\n"
     ]
    },
    {
     "name": "stderr",
     "output_type": "stream",
     "text": [
      "[I 2023-10-11 02:17:46,848] Trial 5 finished with value: 0.8092173144008254 and parameters: {'num_leaves': 16, 'learning_rate': 0.08815475800716352, 'n_estimators': 841}. Best is trial 4 with value: 0.811673954699553.\n"
     ]
    },
    {
     "name": "stdout",
     "output_type": "stream",
     "text": [
      "[LightGBM] [Info] Number of positive: 18397, number of negative: 63013\n",
      "[LightGBM] [Info] Auto-choosing col-wise multi-threading, the overhead of testing was 0.008264 seconds.\n",
      "You can set `force_col_wise=true` to remove the overhead.\n",
      "[LightGBM] [Info] Total Bins 3544\n",
      "[LightGBM] [Info] Number of data points in the train set: 81410, number of used features: 21\n",
      "[LightGBM] [Info] [binary:BoostFromScore]: pavg=0.225980 -> initscore=-1.231153\n",
      "[LightGBM] [Info] Start training from score -1.231153\n"
     ]
    },
    {
     "name": "stderr",
     "output_type": "stream",
     "text": [
      "[I 2023-10-11 02:17:49,351] Trial 6 finished with value: 0.7996855500417629 and parameters: {'num_leaves': 32, 'learning_rate': 0.2542212916285083, 'n_estimators': 727}. Best is trial 4 with value: 0.811673954699553.\n"
     ]
    },
    {
     "name": "stdout",
     "output_type": "stream",
     "text": [
      "[LightGBM] [Info] Number of positive: 18397, number of negative: 63013\n",
      "[LightGBM] [Info] Auto-choosing col-wise multi-threading, the overhead of testing was 0.008141 seconds.\n",
      "You can set `force_col_wise=true` to remove the overhead.\n",
      "[LightGBM] [Info] Total Bins 3544\n",
      "[LightGBM] [Info] Number of data points in the train set: 81410, number of used features: 21\n",
      "[LightGBM] [Info] [binary:BoostFromScore]: pavg=0.225980 -> initscore=-1.231153\n",
      "[LightGBM] [Info] Start training from score -1.231153\n"
     ]
    },
    {
     "name": "stderr",
     "output_type": "stream",
     "text": [
      "[I 2023-10-11 02:17:51,255] Trial 7 finished with value: 0.8090699159829018 and parameters: {'num_leaves': 16, 'learning_rate': 0.12940891180630873, 'n_estimators': 622}. Best is trial 4 with value: 0.811673954699553.\n"
     ]
    },
    {
     "name": "stdout",
     "output_type": "stream",
     "text": [
      "[LightGBM] [Info] Number of positive: 18397, number of negative: 63013\n",
      "[LightGBM] [Info] Auto-choosing col-wise multi-threading, the overhead of testing was 0.008241 seconds.\n",
      "You can set `force_col_wise=true` to remove the overhead.\n",
      "[LightGBM] [Info] Total Bins 3544\n",
      "[LightGBM] [Info] Number of data points in the train set: 81410, number of used features: 21\n",
      "[LightGBM] [Info] [binary:BoostFromScore]: pavg=0.225980 -> initscore=-1.231153\n",
      "[LightGBM] [Info] Start training from score -1.231153\n"
     ]
    },
    {
     "name": "stderr",
     "output_type": "stream",
     "text": [
      "[I 2023-10-11 02:17:53,769] Trial 8 finished with value: 0.8099543064904436 and parameters: {'num_leaves': 8, 'learning_rate': 0.2032880746499721, 'n_estimators': 955}. Best is trial 4 with value: 0.811673954699553.\n"
     ]
    },
    {
     "name": "stdout",
     "output_type": "stream",
     "text": [
      "[LightGBM] [Info] Number of positive: 18397, number of negative: 63013\n",
      "[LightGBM] [Info] Auto-choosing row-wise multi-threading, the overhead of testing was 0.005504 seconds.\n",
      "You can set `force_row_wise=true` to remove the overhead.\n",
      "And if memory is not enough, you can set `force_col_wise=true`.\n",
      "[LightGBM] [Info] Total Bins 3544\n",
      "[LightGBM] [Info] Number of data points in the train set: 81410, number of used features: 21\n",
      "[LightGBM] [Info] [binary:BoostFromScore]: pavg=0.225980 -> initscore=-1.231153\n",
      "[LightGBM] [Info] Start training from score -1.231153\n"
     ]
    },
    {
     "name": "stderr",
     "output_type": "stream",
     "text": [
      "[I 2023-10-11 02:17:55,343] Trial 9 finished with value: 0.8114774234756547 and parameters: {'num_leaves': 16, 'learning_rate': 0.06284464896573895, 'n_estimators': 416}. Best is trial 4 with value: 0.811673954699553.\n"
     ]
    }
   ],
   "source": [
    "import optuna\n",
    "study = optuna.create_study(direction=\"maximize\")\n",
    "study.optimize(optimizer, n_trials=10) # 50번 정도를 추천"
   ]
  },
  {
   "cell_type": "code",
   "execution_count": 8,
   "id": "b591f6c8",
   "metadata": {},
   "outputs": [
    {
     "name": "stdout",
     "output_type": "stream",
     "text": [
      "Best Accuracy: 0.8117\n",
      "Best params:  {'num_leaves': 4, 'learning_rate': 0.2163743641976117, 'n_estimators': 188}\n"
     ]
    }
   ],
   "source": [
    "print(\"Best Accuracy: %.4f\" % study.best_value)\n",
    "print(\"Best params: \", study.best_trial.params) # best score일 때의 하이퍼파라미터들"
   ]
  },
  {
   "cell_type": "markdown",
   "id": "4fa2bc05",
   "metadata": {},
   "source": [
    "##### best model"
   ]
  },
  {
   "cell_type": "code",
   "execution_count": 9,
   "id": "29ad9324",
   "metadata": {},
   "outputs": [
    {
     "name": "stdout",
     "output_type": "stream",
     "text": [
      "[LightGBM] [Info] Number of positive: 18397, number of negative: 63013\n",
      "[LightGBM] [Info] Auto-choosing col-wise multi-threading, the overhead of testing was 0.007551 seconds.\n",
      "You can set `force_col_wise=true` to remove the overhead.\n",
      "[LightGBM] [Info] Total Bins 3544\n",
      "[LightGBM] [Info] Number of data points in the train set: 81410, number of used features: 21\n",
      "[LightGBM] [Info] [binary:BoostFromScore]: pavg=0.225980 -> initscore=-1.231153\n",
      "[LightGBM] [Info] Start training from score -1.231153\n"
     ]
    }
   ],
   "source": [
    "lgbm_best = LGBMClassifier(**study.best_trial.params,\n",
    "                           random_state=61)\n",
    "lgbm_best.fit(X_train, y_train)\n",
    "preds = lgbm_best.predict(test_df)"
   ]
  },
  {
   "cell_type": "markdown",
   "id": "a158a49e",
   "metadata": {},
   "source": [
    "### 3. Light GBM + optuna + KFold"
   ]
  },
  {
   "cell_type": "code",
   "execution_count": 10,
   "id": "ec544da8",
   "metadata": {},
   "outputs": [],
   "source": [
    "from sklearn.model_selection import StratifiedKFold\n",
    "from lightgbm.sklearn import LGBMClassifier\n",
    "def optimizer(trial):\n",
    "    num_leaves = trial.suggest_categorical('num_leaves', [4, 8, 16, 32])\n",
    "    learning_rate = trial.suggest_float('learning_rate', 0.01, 0.3)\n",
    "    n_estimators = trial.suggest_int('n_estimators', 100, 300)\n",
    "    \n",
    "    # 매번 for loop 마다 객체를 생성할 필요 없음\n",
    "    lgbm = LGBMClassifier(num_leaves=num_leaves,\n",
    "                      learning_rate=learning_rate,\n",
    "                      n_estimators=n_estimators,\n",
    "                      random_state=61)\n",
    "    \n",
    "    folds = StratifiedKFold(n_splits=5) # n_splits=5 (default값)\n",
    "    scores = []\n",
    "    for train_idx, val_idx in folds.split(X, y):\n",
    "        lgbm.fit(X.iloc[train_idx], y.iloc[train_idx])\n",
    "        scores.append(lgbm.score(X.iloc[val_idx], y.iloc[val_idx]))\n",
    "    return np.mean(scores)"
   ]
  },
  {
   "cell_type": "code",
   "execution_count": 11,
   "id": "943959f2",
   "metadata": {},
   "outputs": [
    {
     "name": "stderr",
     "output_type": "stream",
     "text": [
      "[I 2023-10-11 02:17:56,021] A new study created in memory with name: no-name-c900b969-2079-479f-a1da-ba7b014c3b53\n"
     ]
    },
    {
     "name": "stdout",
     "output_type": "stream",
     "text": [
      "[LightGBM] [Info] Number of positive: 18451, number of negative: 62959\n",
      "[LightGBM] [Info] Auto-choosing col-wise multi-threading, the overhead of testing was 0.007719 seconds.\n",
      "You can set `force_col_wise=true` to remove the overhead.\n",
      "[LightGBM] [Info] Total Bins 3550\n",
      "[LightGBM] [Info] Number of data points in the train set: 81410, number of used features: 21\n",
      "[LightGBM] [Info] [binary:BoostFromScore]: pavg=0.226643 -> initscore=-1.227365\n",
      "[LightGBM] [Info] Start training from score -1.227365\n",
      "[LightGBM] [Info] Number of positive: 18451, number of negative: 62959\n",
      "[LightGBM] [Info] Auto-choosing col-wise multi-threading, the overhead of testing was 0.007333 seconds.\n",
      "You can set `force_col_wise=true` to remove the overhead.\n",
      "[LightGBM] [Info] Total Bins 3546\n",
      "[LightGBM] [Info] Number of data points in the train set: 81410, number of used features: 21\n",
      "[LightGBM] [Info] [binary:BoostFromScore]: pavg=0.226643 -> initscore=-1.227365\n",
      "[LightGBM] [Info] Start training from score -1.227365\n",
      "[LightGBM] [Info] Number of positive: 18451, number of negative: 62959\n",
      "[LightGBM] [Info] Auto-choosing col-wise multi-threading, the overhead of testing was 0.008362 seconds.\n",
      "You can set `force_col_wise=true` to remove the overhead.\n",
      "[LightGBM] [Info] Total Bins 3546\n",
      "[LightGBM] [Info] Number of data points in the train set: 81410, number of used features: 21\n",
      "[LightGBM] [Info] [binary:BoostFromScore]: pavg=0.226643 -> initscore=-1.227365\n",
      "[LightGBM] [Info] Start training from score -1.227365\n",
      "[LightGBM] [Info] Number of positive: 18452, number of negative: 62959\n",
      "[LightGBM] [Info] Auto-choosing col-wise multi-threading, the overhead of testing was 0.008042 seconds.\n",
      "You can set `force_col_wise=true` to remove the overhead.\n",
      "[LightGBM] [Info] Total Bins 3552\n",
      "[LightGBM] [Info] Number of data points in the train set: 81411, number of used features: 21\n",
      "[LightGBM] [Info] [binary:BoostFromScore]: pavg=0.226652 -> initscore=-1.227311\n",
      "[LightGBM] [Info] Start training from score -1.227311\n",
      "[LightGBM] [Info] Number of positive: 18451, number of negative: 62960\n",
      "[LightGBM] [Info] Auto-choosing col-wise multi-threading, the overhead of testing was 0.007337 seconds.\n",
      "You can set `force_col_wise=true` to remove the overhead.\n",
      "[LightGBM] [Info] Total Bins 3557\n",
      "[LightGBM] [Info] Number of data points in the train set: 81411, number of used features: 21\n",
      "[LightGBM] [Info] [binary:BoostFromScore]: pavg=0.226640 -> initscore=-1.227381\n",
      "[LightGBM] [Info] Start training from score -1.227381\n"
     ]
    },
    {
     "name": "stderr",
     "output_type": "stream",
     "text": [
      "[I 2023-10-11 02:17:59,451] Trial 0 finished with value: 0.8142939770287138 and parameters: {'num_leaves': 8, 'learning_rate': 0.11576601855035158, 'n_estimators': 195}. Best is trial 0 with value: 0.8142939770287138.\n"
     ]
    },
    {
     "name": "stdout",
     "output_type": "stream",
     "text": [
      "[LightGBM] [Info] Number of positive: 18451, number of negative: 62959\n",
      "[LightGBM] [Info] Auto-choosing col-wise multi-threading, the overhead of testing was 0.008066 seconds.\n",
      "You can set `force_col_wise=true` to remove the overhead.\n",
      "[LightGBM] [Info] Total Bins 3550\n",
      "[LightGBM] [Info] Number of data points in the train set: 81410, number of used features: 21\n",
      "[LightGBM] [Info] [binary:BoostFromScore]: pavg=0.226643 -> initscore=-1.227365\n",
      "[LightGBM] [Info] Start training from score -1.227365\n",
      "[LightGBM] [Info] Number of positive: 18451, number of negative: 62959\n",
      "[LightGBM] [Info] Auto-choosing col-wise multi-threading, the overhead of testing was 0.007958 seconds.\n",
      "You can set `force_col_wise=true` to remove the overhead.\n",
      "[LightGBM] [Info] Total Bins 3546\n",
      "[LightGBM] [Info] Number of data points in the train set: 81410, number of used features: 21\n",
      "[LightGBM] [Info] [binary:BoostFromScore]: pavg=0.226643 -> initscore=-1.227365\n",
      "[LightGBM] [Info] Start training from score -1.227365\n",
      "[LightGBM] [Info] Number of positive: 18451, number of negative: 62959\n",
      "[LightGBM] [Info] Auto-choosing col-wise multi-threading, the overhead of testing was 0.008118 seconds.\n",
      "You can set `force_col_wise=true` to remove the overhead.\n",
      "[LightGBM] [Info] Total Bins 3546\n",
      "[LightGBM] [Info] Number of data points in the train set: 81410, number of used features: 21\n",
      "[LightGBM] [Info] [binary:BoostFromScore]: pavg=0.226643 -> initscore=-1.227365\n",
      "[LightGBM] [Info] Start training from score -1.227365\n",
      "[LightGBM] [Info] Number of positive: 18452, number of negative: 62959\n",
      "[LightGBM] [Info] Auto-choosing col-wise multi-threading, the overhead of testing was 0.007572 seconds.\n",
      "You can set `force_col_wise=true` to remove the overhead.\n",
      "[LightGBM] [Info] Total Bins 3552\n",
      "[LightGBM] [Info] Number of data points in the train set: 81411, number of used features: 21\n",
      "[LightGBM] [Info] [binary:BoostFromScore]: pavg=0.226652 -> initscore=-1.227311\n",
      "[LightGBM] [Info] Start training from score -1.227311\n",
      "[LightGBM] [Info] Number of positive: 18451, number of negative: 62960\n",
      "[LightGBM] [Info] Auto-choosing col-wise multi-threading, the overhead of testing was 0.007677 seconds.\n",
      "You can set `force_col_wise=true` to remove the overhead.\n",
      "[LightGBM] [Info] Total Bins 3557\n",
      "[LightGBM] [Info] Number of data points in the train set: 81411, number of used features: 21\n",
      "[LightGBM] [Info] [binary:BoostFromScore]: pavg=0.226640 -> initscore=-1.227381\n",
      "[LightGBM] [Info] Start training from score -1.227381\n"
     ]
    },
    {
     "name": "stderr",
     "output_type": "stream",
     "text": [
      "[I 2023-10-11 02:18:05,154] Trial 1 finished with value: 0.8127905020607967 and parameters: {'num_leaves': 32, 'learning_rate': 0.09546001311009013, 'n_estimators': 274}. Best is trial 0 with value: 0.8142939770287138.\n"
     ]
    },
    {
     "name": "stdout",
     "output_type": "stream",
     "text": [
      "[LightGBM] [Info] Number of positive: 18451, number of negative: 62959\n",
      "[LightGBM] [Info] Auto-choosing col-wise multi-threading, the overhead of testing was 0.007883 seconds.\n",
      "You can set `force_col_wise=true` to remove the overhead.\n",
      "[LightGBM] [Info] Total Bins 3550\n",
      "[LightGBM] [Info] Number of data points in the train set: 81410, number of used features: 21\n",
      "[LightGBM] [Info] [binary:BoostFromScore]: pavg=0.226643 -> initscore=-1.227365\n",
      "[LightGBM] [Info] Start training from score -1.227365\n",
      "[LightGBM] [Info] Number of positive: 18451, number of negative: 62959\n",
      "[LightGBM] [Info] Auto-choosing col-wise multi-threading, the overhead of testing was 0.007389 seconds.\n",
      "You can set `force_col_wise=true` to remove the overhead.\n",
      "[LightGBM] [Info] Total Bins 3546\n",
      "[LightGBM] [Info] Number of data points in the train set: 81410, number of used features: 21\n",
      "[LightGBM] [Info] [binary:BoostFromScore]: pavg=0.226643 -> initscore=-1.227365\n",
      "[LightGBM] [Info] Start training from score -1.227365\n",
      "[LightGBM] [Info] Number of positive: 18451, number of negative: 62959\n",
      "[LightGBM] [Info] Auto-choosing col-wise multi-threading, the overhead of testing was 0.008083 seconds.\n",
      "You can set `force_col_wise=true` to remove the overhead.\n",
      "[LightGBM] [Info] Total Bins 3546\n",
      "[LightGBM] [Info] Number of data points in the train set: 81410, number of used features: 21\n",
      "[LightGBM] [Info] [binary:BoostFromScore]: pavg=0.226643 -> initscore=-1.227365\n",
      "[LightGBM] [Info] Start training from score -1.227365\n",
      "[LightGBM] [Info] Number of positive: 18452, number of negative: 62959\n",
      "[LightGBM] [Info] Auto-choosing col-wise multi-threading, the overhead of testing was 0.007810 seconds.\n",
      "You can set `force_col_wise=true` to remove the overhead.\n",
      "[LightGBM] [Info] Total Bins 3552\n",
      "[LightGBM] [Info] Number of data points in the train set: 81411, number of used features: 21\n",
      "[LightGBM] [Info] [binary:BoostFromScore]: pavg=0.226652 -> initscore=-1.227311\n",
      "[LightGBM] [Info] Start training from score -1.227311\n",
      "[LightGBM] [Info] Number of positive: 18451, number of negative: 62960\n",
      "[LightGBM] [Info] Auto-choosing col-wise multi-threading, the overhead of testing was 0.008047 seconds.\n",
      "You can set `force_col_wise=true` to remove the overhead.\n",
      "[LightGBM] [Info] Total Bins 3557\n",
      "[LightGBM] [Info] Number of data points in the train set: 81411, number of used features: 21\n",
      "[LightGBM] [Info] [binary:BoostFromScore]: pavg=0.226640 -> initscore=-1.227381\n",
      "[LightGBM] [Info] Start training from score -1.227381\n"
     ]
    },
    {
     "name": "stderr",
     "output_type": "stream",
     "text": [
      "[I 2023-10-11 02:18:08,270] Trial 2 finished with value: 0.8144905193577076 and parameters: {'num_leaves': 16, 'learning_rate': 0.07898528006269555, 'n_estimators': 138}. Best is trial 2 with value: 0.8144905193577076.\n"
     ]
    },
    {
     "name": "stdout",
     "output_type": "stream",
     "text": [
      "[LightGBM] [Info] Number of positive: 18451, number of negative: 62959\n",
      "[LightGBM] [Info] Auto-choosing col-wise multi-threading, the overhead of testing was 0.007263 seconds.\n",
      "You can set `force_col_wise=true` to remove the overhead.\n",
      "[LightGBM] [Info] Total Bins 3550\n",
      "[LightGBM] [Info] Number of data points in the train set: 81410, number of used features: 21\n",
      "[LightGBM] [Info] [binary:BoostFromScore]: pavg=0.226643 -> initscore=-1.227365\n",
      "[LightGBM] [Info] Start training from score -1.227365\n",
      "[LightGBM] [Info] Number of positive: 18451, number of negative: 62959\n",
      "[LightGBM] [Info] Auto-choosing col-wise multi-threading, the overhead of testing was 0.007980 seconds.\n",
      "You can set `force_col_wise=true` to remove the overhead.\n",
      "[LightGBM] [Info] Total Bins 3546\n",
      "[LightGBM] [Info] Number of data points in the train set: 81410, number of used features: 21\n",
      "[LightGBM] [Info] [binary:BoostFromScore]: pavg=0.226643 -> initscore=-1.227365\n",
      "[LightGBM] [Info] Start training from score -1.227365\n",
      "[LightGBM] [Info] Number of positive: 18451, number of negative: 62959\n",
      "[LightGBM] [Info] Auto-choosing col-wise multi-threading, the overhead of testing was 0.008107 seconds.\n",
      "You can set `force_col_wise=true` to remove the overhead.\n",
      "[LightGBM] [Info] Total Bins 3546\n",
      "[LightGBM] [Info] Number of data points in the train set: 81410, number of used features: 21\n",
      "[LightGBM] [Info] [binary:BoostFromScore]: pavg=0.226643 -> initscore=-1.227365\n",
      "[LightGBM] [Info] Start training from score -1.227365\n",
      "[LightGBM] [Info] Number of positive: 18452, number of negative: 62959\n",
      "[LightGBM] [Info] Auto-choosing col-wise multi-threading, the overhead of testing was 0.008119 seconds.\n",
      "You can set `force_col_wise=true` to remove the overhead.\n",
      "[LightGBM] [Info] Total Bins 3552\n",
      "[LightGBM] [Info] Number of data points in the train set: 81411, number of used features: 21\n",
      "[LightGBM] [Info] [binary:BoostFromScore]: pavg=0.226652 -> initscore=-1.227311\n",
      "[LightGBM] [Info] Start training from score -1.227311\n",
      "[LightGBM] [Info] Number of positive: 18451, number of negative: 62960\n",
      "[LightGBM] [Info] Auto-choosing col-wise multi-threading, the overhead of testing was 0.007034 seconds.\n",
      "You can set `force_col_wise=true` to remove the overhead.\n",
      "[LightGBM] [Info] Total Bins 3557\n",
      "[LightGBM] [Info] Number of data points in the train set: 81411, number of used features: 21\n",
      "[LightGBM] [Info] [binary:BoostFromScore]: pavg=0.226640 -> initscore=-1.227381\n",
      "[LightGBM] [Info] Start training from score -1.227381\n"
     ]
    },
    {
     "name": "stderr",
     "output_type": "stream",
     "text": [
      "[I 2023-10-11 02:18:10,776] Trial 3 finished with value: 0.8148541050189007 and parameters: {'num_leaves': 4, 'learning_rate': 0.07759817369299836, 'n_estimators': 148}. Best is trial 3 with value: 0.8148541050189007.\n"
     ]
    },
    {
     "name": "stdout",
     "output_type": "stream",
     "text": [
      "[LightGBM] [Info] Number of positive: 18451, number of negative: 62959\n",
      "[LightGBM] [Info] Auto-choosing col-wise multi-threading, the overhead of testing was 0.008228 seconds.\n",
      "You can set `force_col_wise=true` to remove the overhead.\n",
      "[LightGBM] [Info] Total Bins 3550\n",
      "[LightGBM] [Info] Number of data points in the train set: 81410, number of used features: 21\n",
      "[LightGBM] [Info] [binary:BoostFromScore]: pavg=0.226643 -> initscore=-1.227365\n",
      "[LightGBM] [Info] Start training from score -1.227365\n",
      "[LightGBM] [Info] Number of positive: 18451, number of negative: 62959\n",
      "[LightGBM] [Info] Auto-choosing col-wise multi-threading, the overhead of testing was 0.007957 seconds.\n",
      "You can set `force_col_wise=true` to remove the overhead.\n",
      "[LightGBM] [Info] Total Bins 3546\n",
      "[LightGBM] [Info] Number of data points in the train set: 81410, number of used features: 21\n",
      "[LightGBM] [Info] [binary:BoostFromScore]: pavg=0.226643 -> initscore=-1.227365\n",
      "[LightGBM] [Info] Start training from score -1.227365\n",
      "[LightGBM] [Info] Number of positive: 18451, number of negative: 62959\n",
      "[LightGBM] [Info] Auto-choosing row-wise multi-threading, the overhead of testing was 0.004475 seconds.\n",
      "You can set `force_row_wise=true` to remove the overhead.\n",
      "And if memory is not enough, you can set `force_col_wise=true`.\n",
      "[LightGBM] [Info] Total Bins 3546\n",
      "[LightGBM] [Info] Number of data points in the train set: 81410, number of used features: 21\n",
      "[LightGBM] [Info] [binary:BoostFromScore]: pavg=0.226643 -> initscore=-1.227365\n",
      "[LightGBM] [Info] Start training from score -1.227365\n",
      "[LightGBM] [Info] Number of positive: 18452, number of negative: 62959\n",
      "[LightGBM] [Info] Auto-choosing col-wise multi-threading, the overhead of testing was 0.007768 seconds.\n",
      "You can set `force_col_wise=true` to remove the overhead.\n",
      "[LightGBM] [Info] Total Bins 3552\n",
      "[LightGBM] [Info] Number of data points in the train set: 81411, number of used features: 21\n",
      "[LightGBM] [Info] [binary:BoostFromScore]: pavg=0.226652 -> initscore=-1.227311\n",
      "[LightGBM] [Info] Start training from score -1.227311\n",
      "[LightGBM] [Info] Number of positive: 18451, number of negative: 62960\n",
      "[LightGBM] [Info] Auto-choosing col-wise multi-threading, the overhead of testing was 0.007895 seconds.\n",
      "You can set `force_col_wise=true` to remove the overhead.\n",
      "[LightGBM] [Info] Total Bins 3557\n",
      "[LightGBM] [Info] Number of data points in the train set: 81411, number of used features: 21\n",
      "[LightGBM] [Info] [binary:BoostFromScore]: pavg=0.226640 -> initscore=-1.227381\n",
      "[LightGBM] [Info] Start training from score -1.227381\n"
     ]
    },
    {
     "name": "stderr",
     "output_type": "stream",
     "text": [
      "[I 2023-10-11 02:18:14,297] Trial 4 finished with value: 0.8102158633607395 and parameters: {'num_leaves': 32, 'learning_rate': 0.25601517092637543, 'n_estimators': 161}. Best is trial 3 with value: 0.8148541050189007.\n"
     ]
    },
    {
     "name": "stdout",
     "output_type": "stream",
     "text": [
      "[LightGBM] [Info] Number of positive: 18451, number of negative: 62959\n",
      "[LightGBM] [Info] Auto-choosing col-wise multi-threading, the overhead of testing was 0.007965 seconds.\n",
      "You can set `force_col_wise=true` to remove the overhead.\n",
      "[LightGBM] [Info] Total Bins 3550\n",
      "[LightGBM] [Info] Number of data points in the train set: 81410, number of used features: 21\n",
      "[LightGBM] [Info] [binary:BoostFromScore]: pavg=0.226643 -> initscore=-1.227365\n",
      "[LightGBM] [Info] Start training from score -1.227365\n",
      "[LightGBM] [Info] Number of positive: 18451, number of negative: 62959\n",
      "[LightGBM] [Info] Auto-choosing col-wise multi-threading, the overhead of testing was 0.008368 seconds.\n",
      "You can set `force_col_wise=true` to remove the overhead.\n",
      "[LightGBM] [Info] Total Bins 3546\n",
      "[LightGBM] [Info] Number of data points in the train set: 81410, number of used features: 21\n",
      "[LightGBM] [Info] [binary:BoostFromScore]: pavg=0.226643 -> initscore=-1.227365\n",
      "[LightGBM] [Info] Start training from score -1.227365\n",
      "[LightGBM] [Info] Number of positive: 18451, number of negative: 62959\n",
      "[LightGBM] [Info] Auto-choosing col-wise multi-threading, the overhead of testing was 0.007597 seconds.\n",
      "You can set `force_col_wise=true` to remove the overhead.\n",
      "[LightGBM] [Info] Total Bins 3546\n",
      "[LightGBM] [Info] Number of data points in the train set: 81410, number of used features: 21\n",
      "[LightGBM] [Info] [binary:BoostFromScore]: pavg=0.226643 -> initscore=-1.227365\n",
      "[LightGBM] [Info] Start training from score -1.227365\n",
      "[LightGBM] [Info] Number of positive: 18452, number of negative: 62959\n",
      "[LightGBM] [Info] Auto-choosing col-wise multi-threading, the overhead of testing was 0.008440 seconds.\n",
      "You can set `force_col_wise=true` to remove the overhead.\n",
      "[LightGBM] [Info] Total Bins 3552\n",
      "[LightGBM] [Info] Number of data points in the train set: 81411, number of used features: 21\n",
      "[LightGBM] [Info] [binary:BoostFromScore]: pavg=0.226652 -> initscore=-1.227311\n",
      "[LightGBM] [Info] Start training from score -1.227311\n",
      "[LightGBM] [Info] Number of positive: 18451, number of negative: 62960\n",
      "[LightGBM] [Info] Auto-choosing col-wise multi-threading, the overhead of testing was 0.008118 seconds.\n",
      "You can set `force_col_wise=true` to remove the overhead.\n",
      "[LightGBM] [Info] Total Bins 3557\n",
      "[LightGBM] [Info] Number of data points in the train set: 81411, number of used features: 21\n",
      "[LightGBM] [Info] [binary:BoostFromScore]: pavg=0.226640 -> initscore=-1.227381\n",
      "[LightGBM] [Info] Start training from score -1.227381\n"
     ]
    },
    {
     "name": "stderr",
     "output_type": "stream",
     "text": [
      "[I 2023-10-11 02:18:19,111] Trial 5 finished with value: 0.8109823752088531 and parameters: {'num_leaves': 16, 'learning_rate': 0.24198624623625434, 'n_estimators': 290}. Best is trial 3 with value: 0.8148541050189007.\n"
     ]
    },
    {
     "name": "stdout",
     "output_type": "stream",
     "text": [
      "[LightGBM] [Info] Number of positive: 18451, number of negative: 62959\n",
      "[LightGBM] [Info] Auto-choosing col-wise multi-threading, the overhead of testing was 0.008829 seconds.\n",
      "You can set `force_col_wise=true` to remove the overhead.\n",
      "[LightGBM] [Info] Total Bins 3550\n",
      "[LightGBM] [Info] Number of data points in the train set: 81410, number of used features: 21\n",
      "[LightGBM] [Info] [binary:BoostFromScore]: pavg=0.226643 -> initscore=-1.227365\n",
      "[LightGBM] [Info] Start training from score -1.227365\n",
      "[LightGBM] [Info] Number of positive: 18451, number of negative: 62959\n",
      "[LightGBM] [Info] Auto-choosing col-wise multi-threading, the overhead of testing was 0.008951 seconds.\n",
      "You can set `force_col_wise=true` to remove the overhead.\n",
      "[LightGBM] [Info] Total Bins 3546\n",
      "[LightGBM] [Info] Number of data points in the train set: 81410, number of used features: 21\n",
      "[LightGBM] [Info] [binary:BoostFromScore]: pavg=0.226643 -> initscore=-1.227365\n",
      "[LightGBM] [Info] Start training from score -1.227365\n",
      "[LightGBM] [Info] Number of positive: 18451, number of negative: 62959\n",
      "[LightGBM] [Info] Auto-choosing col-wise multi-threading, the overhead of testing was 0.008668 seconds.\n",
      "You can set `force_col_wise=true` to remove the overhead.\n",
      "[LightGBM] [Info] Total Bins 3546\n",
      "[LightGBM] [Info] Number of data points in the train set: 81410, number of used features: 21\n",
      "[LightGBM] [Info] [binary:BoostFromScore]: pavg=0.226643 -> initscore=-1.227365\n",
      "[LightGBM] [Info] Start training from score -1.227365\n",
      "[LightGBM] [Info] Number of positive: 18452, number of negative: 62959\n",
      "[LightGBM] [Info] Auto-choosing col-wise multi-threading, the overhead of testing was 0.008496 seconds.\n",
      "You can set `force_col_wise=true` to remove the overhead.\n",
      "[LightGBM] [Info] Total Bins 3552\n",
      "[LightGBM] [Info] Number of data points in the train set: 81411, number of used features: 21\n",
      "[LightGBM] [Info] [binary:BoostFromScore]: pavg=0.226652 -> initscore=-1.227311\n",
      "[LightGBM] [Info] Start training from score -1.227311\n",
      "[LightGBM] [Info] Number of positive: 18451, number of negative: 62960\n",
      "[LightGBM] [Info] Auto-choosing col-wise multi-threading, the overhead of testing was 0.008078 seconds.\n",
      "You can set `force_col_wise=true` to remove the overhead.\n",
      "[LightGBM] [Info] Total Bins 3557\n",
      "[LightGBM] [Info] Number of data points in the train set: 81411, number of used features: 21\n",
      "[LightGBM] [Info] [binary:BoostFromScore]: pavg=0.226640 -> initscore=-1.227381\n",
      "[LightGBM] [Info] Start training from score -1.227381\n"
     ]
    },
    {
     "name": "stderr",
     "output_type": "stream",
     "text": [
      "[I 2023-10-11 02:18:22,747] Trial 6 finished with value: 0.8130558110049451 and parameters: {'num_leaves': 16, 'learning_rate': 0.16569906485516292, 'n_estimators': 173}. Best is trial 3 with value: 0.8148541050189007.\n"
     ]
    },
    {
     "name": "stdout",
     "output_type": "stream",
     "text": [
      "[LightGBM] [Info] Number of positive: 18451, number of negative: 62959\n",
      "[LightGBM] [Info] Auto-choosing col-wise multi-threading, the overhead of testing was 0.008743 seconds.\n",
      "You can set `force_col_wise=true` to remove the overhead.\n",
      "[LightGBM] [Info] Total Bins 3550\n",
      "[LightGBM] [Info] Number of data points in the train set: 81410, number of used features: 21\n",
      "[LightGBM] [Info] [binary:BoostFromScore]: pavg=0.226643 -> initscore=-1.227365\n",
      "[LightGBM] [Info] Start training from score -1.227365\n",
      "[LightGBM] [Info] Number of positive: 18451, number of negative: 62959\n",
      "[LightGBM] [Info] Auto-choosing col-wise multi-threading, the overhead of testing was 0.008486 seconds.\n",
      "You can set `force_col_wise=true` to remove the overhead.\n",
      "[LightGBM] [Info] Total Bins 3546\n",
      "[LightGBM] [Info] Number of data points in the train set: 81410, number of used features: 21\n",
      "[LightGBM] [Info] [binary:BoostFromScore]: pavg=0.226643 -> initscore=-1.227365\n",
      "[LightGBM] [Info] Start training from score -1.227365\n",
      "[LightGBM] [Info] Number of positive: 18451, number of negative: 62959\n",
      "[LightGBM] [Info] Auto-choosing col-wise multi-threading, the overhead of testing was 0.009063 seconds.\n",
      "You can set `force_col_wise=true` to remove the overhead.\n",
      "[LightGBM] [Info] Total Bins 3546\n",
      "[LightGBM] [Info] Number of data points in the train set: 81410, number of used features: 21\n",
      "[LightGBM] [Info] [binary:BoostFromScore]: pavg=0.226643 -> initscore=-1.227365\n",
      "[LightGBM] [Info] Start training from score -1.227365\n",
      "[LightGBM] [Info] Number of positive: 18452, number of negative: 62959\n",
      "[LightGBM] [Info] Auto-choosing col-wise multi-threading, the overhead of testing was 0.009745 seconds.\n",
      "You can set `force_col_wise=true` to remove the overhead.\n",
      "[LightGBM] [Info] Total Bins 3552\n",
      "[LightGBM] [Info] Number of data points in the train set: 81411, number of used features: 21\n",
      "[LightGBM] [Info] [binary:BoostFromScore]: pavg=0.226652 -> initscore=-1.227311\n",
      "[LightGBM] [Info] Start training from score -1.227311\n",
      "[LightGBM] [Info] Number of positive: 18451, number of negative: 62960\n",
      "[LightGBM] [Info] Auto-choosing col-wise multi-threading, the overhead of testing was 0.009640 seconds.\n",
      "You can set `force_col_wise=true` to remove the overhead.\n",
      "[LightGBM] [Info] Total Bins 3557\n",
      "[LightGBM] [Info] Number of data points in the train set: 81411, number of used features: 21\n",
      "[LightGBM] [Info] [binary:BoostFromScore]: pavg=0.226640 -> initscore=-1.227381\n",
      "[LightGBM] [Info] Start training from score -1.227381\n"
     ]
    },
    {
     "name": "stderr",
     "output_type": "stream",
     "text": [
      "[I 2023-10-11 02:18:27,228] Trial 7 finished with value: 0.8120829790324977 and parameters: {'num_leaves': 16, 'learning_rate': 0.2759813815999637, 'n_estimators': 168}. Best is trial 3 with value: 0.8148541050189007.\n"
     ]
    },
    {
     "name": "stdout",
     "output_type": "stream",
     "text": [
      "[LightGBM] [Info] Number of positive: 18451, number of negative: 62959\n",
      "[LightGBM] [Info] Auto-choosing row-wise multi-threading, the overhead of testing was 0.004894 seconds.\n",
      "You can set `force_row_wise=true` to remove the overhead.\n",
      "And if memory is not enough, you can set `force_col_wise=true`.\n",
      "[LightGBM] [Info] Total Bins 3550\n",
      "[LightGBM] [Info] Number of data points in the train set: 81410, number of used features: 21\n",
      "[LightGBM] [Info] [binary:BoostFromScore]: pavg=0.226643 -> initscore=-1.227365\n",
      "[LightGBM] [Info] Start training from score -1.227365\n",
      "[LightGBM] [Info] Number of positive: 18451, number of negative: 62959\n",
      "[LightGBM] [Info] Auto-choosing col-wise multi-threading, the overhead of testing was 0.009369 seconds.\n",
      "You can set `force_col_wise=true` to remove the overhead.\n",
      "[LightGBM] [Info] Total Bins 3546\n",
      "[LightGBM] [Info] Number of data points in the train set: 81410, number of used features: 21\n",
      "[LightGBM] [Info] [binary:BoostFromScore]: pavg=0.226643 -> initscore=-1.227365\n",
      "[LightGBM] [Info] Start training from score -1.227365\n",
      "[LightGBM] [Info] Number of positive: 18451, number of negative: 62959\n",
      "[LightGBM] [Info] Auto-choosing col-wise multi-threading, the overhead of testing was 0.009216 seconds.\n",
      "You can set `force_col_wise=true` to remove the overhead.\n",
      "[LightGBM] [Info] Total Bins 3546\n",
      "[LightGBM] [Info] Number of data points in the train set: 81410, number of used features: 21\n",
      "[LightGBM] [Info] [binary:BoostFromScore]: pavg=0.226643 -> initscore=-1.227365\n",
      "[LightGBM] [Info] Start training from score -1.227365\n",
      "[LightGBM] [Info] Number of positive: 18452, number of negative: 62959\n",
      "[LightGBM] [Info] Auto-choosing col-wise multi-threading, the overhead of testing was 0.008550 seconds.\n",
      "You can set `force_col_wise=true` to remove the overhead.\n",
      "[LightGBM] [Info] Total Bins 3552\n",
      "[LightGBM] [Info] Number of data points in the train set: 81411, number of used features: 21\n",
      "[LightGBM] [Info] [binary:BoostFromScore]: pavg=0.226652 -> initscore=-1.227311\n",
      "[LightGBM] [Info] Start training from score -1.227311\n",
      "[LightGBM] [Info] Number of positive: 18451, number of negative: 62960\n",
      "[LightGBM] [Info] Auto-choosing col-wise multi-threading, the overhead of testing was 0.009601 seconds.\n",
      "You can set `force_col_wise=true` to remove the overhead.\n",
      "[LightGBM] [Info] Total Bins 3557\n",
      "[LightGBM] [Info] Number of data points in the train set: 81411, number of used features: 21\n",
      "[LightGBM] [Info] [binary:BoostFromScore]: pavg=0.226640 -> initscore=-1.227381\n",
      "[LightGBM] [Info] Start training from score -1.227381\n"
     ]
    },
    {
     "name": "stderr",
     "output_type": "stream",
     "text": [
      "[I 2023-10-11 02:18:31,549] Trial 8 finished with value: 0.8146084380920465 and parameters: {'num_leaves': 16, 'learning_rate': 0.13190733390229817, 'n_estimators': 124}. Best is trial 3 with value: 0.8148541050189007.\n"
     ]
    },
    {
     "name": "stdout",
     "output_type": "stream",
     "text": [
      "[LightGBM] [Info] Number of positive: 18451, number of negative: 62959\n",
      "[LightGBM] [Info] Auto-choosing col-wise multi-threading, the overhead of testing was 0.008009 seconds.\n",
      "You can set `force_col_wise=true` to remove the overhead.\n",
      "[LightGBM] [Info] Total Bins 3550\n",
      "[LightGBM] [Info] Number of data points in the train set: 81410, number of used features: 21\n",
      "[LightGBM] [Info] [binary:BoostFromScore]: pavg=0.226643 -> initscore=-1.227365\n",
      "[LightGBM] [Info] Start training from score -1.227365\n",
      "[LightGBM] [Info] Number of positive: 18451, number of negative: 62959\n",
      "[LightGBM] [Info] Auto-choosing col-wise multi-threading, the overhead of testing was 0.008527 seconds.\n",
      "You can set `force_col_wise=true` to remove the overhead.\n",
      "[LightGBM] [Info] Total Bins 3546\n",
      "[LightGBM] [Info] Number of data points in the train set: 81410, number of used features: 21\n",
      "[LightGBM] [Info] [binary:BoostFromScore]: pavg=0.226643 -> initscore=-1.227365\n",
      "[LightGBM] [Info] Start training from score -1.227365\n",
      "[LightGBM] [Info] Number of positive: 18451, number of negative: 62959\n",
      "[LightGBM] [Info] Auto-choosing col-wise multi-threading, the overhead of testing was 0.008364 seconds.\n",
      "You can set `force_col_wise=true` to remove the overhead.\n",
      "[LightGBM] [Info] Total Bins 3546\n",
      "[LightGBM] [Info] Number of data points in the train set: 81410, number of used features: 21\n",
      "[LightGBM] [Info] [binary:BoostFromScore]: pavg=0.226643 -> initscore=-1.227365\n",
      "[LightGBM] [Info] Start training from score -1.227365\n",
      "[LightGBM] [Info] Number of positive: 18452, number of negative: 62959\n",
      "[LightGBM] [Info] Auto-choosing col-wise multi-threading, the overhead of testing was 0.008242 seconds.\n",
      "You can set `force_col_wise=true` to remove the overhead.\n",
      "[LightGBM] [Info] Total Bins 3552\n",
      "[LightGBM] [Info] Number of data points in the train set: 81411, number of used features: 21\n",
      "[LightGBM] [Info] [binary:BoostFromScore]: pavg=0.226652 -> initscore=-1.227311\n",
      "[LightGBM] [Info] Start training from score -1.227311\n",
      "[LightGBM] [Info] Number of positive: 18451, number of negative: 62960\n",
      "[LightGBM] [Info] Auto-choosing col-wise multi-threading, the overhead of testing was 0.009018 seconds.\n",
      "You can set `force_col_wise=true` to remove the overhead.\n",
      "[LightGBM] [Info] Total Bins 3557\n",
      "[LightGBM] [Info] Number of data points in the train set: 81411, number of used features: 21\n",
      "[LightGBM] [Info] [binary:BoostFromScore]: pavg=0.226640 -> initscore=-1.227381\n",
      "[LightGBM] [Info] Start training from score -1.227381\n"
     ]
    },
    {
     "name": "stderr",
     "output_type": "stream",
     "text": [
      "[I 2023-10-11 02:18:35,828] Trial 9 finished with value: 0.814185891132363 and parameters: {'num_leaves': 8, 'learning_rate': 0.1525230826982767, 'n_estimators': 232}. Best is trial 3 with value: 0.8148541050189007.\n"
     ]
    }
   ],
   "source": [
    "import optuna\n",
    "study = optuna.create_study(direction=\"maximize\")\n",
    "study.optimize(optimizer, n_trials=10)"
   ]
  },
  {
   "cell_type": "code",
   "execution_count": 12,
   "id": "f69f3b43",
   "metadata": {},
   "outputs": [
    {
     "name": "stdout",
     "output_type": "stream",
     "text": [
      "Best Accuracy: 0.8149\n",
      "Best params:  {'num_leaves': 4, 'learning_rate': 0.07759817369299836, 'n_estimators': 148}\n"
     ]
    }
   ],
   "source": [
    "print(\"Best Accuracy: %.4f\" % study.best_value)\n",
    "print(\"Best params: \", study.best_trial.params) # best score일 때의 하이퍼파라미터들"
   ]
  },
  {
   "cell_type": "markdown",
   "id": "87a82a8e",
   "metadata": {},
   "source": [
    "##### best model"
   ]
  },
  {
   "cell_type": "code",
   "execution_count": 13,
   "id": "dbdb35a1",
   "metadata": {},
   "outputs": [
    {
     "name": "stdout",
     "output_type": "stream",
     "text": [
      "[LightGBM] [Info] Number of positive: 18397, number of negative: 63013\n",
      "[LightGBM] [Info] Auto-choosing col-wise multi-threading, the overhead of testing was 0.009187 seconds.\n",
      "You can set `force_col_wise=true` to remove the overhead.\n",
      "[LightGBM] [Info] Total Bins 3544\n",
      "[LightGBM] [Info] Number of data points in the train set: 81410, number of used features: 21\n",
      "[LightGBM] [Info] [binary:BoostFromScore]: pavg=0.225980 -> initscore=-1.231153\n",
      "[LightGBM] [Info] Start training from score -1.231153\n"
     ]
    }
   ],
   "source": [
    "lgbm_best = LGBMClassifier(**study.best_trial.params,\n",
    "                           random_state=61)\n",
    "lgbm_best.fit(X_train, y_train)\n",
    "preds = lgbm_best.predict(test_df)"
   ]
  },
  {
   "cell_type": "code",
   "execution_count": null,
   "id": "e2ef6b95",
   "metadata": {},
   "outputs": [],
   "source": []
  }
 ],
 "metadata": {
  "kernelspec": {
   "display_name": "Python 3 (ipykernel)",
   "language": "python",
   "name": "python3"
  },
  "language_info": {
   "codemirror_mode": {
    "name": "ipython",
    "version": 3
   },
   "file_extension": ".py",
   "mimetype": "text/x-python",
   "name": "python",
   "nbconvert_exporter": "python",
   "pygments_lexer": "ipython3",
   "version": "3.9.7"
  }
 },
 "nbformat": 4,
 "nbformat_minor": 5
}
